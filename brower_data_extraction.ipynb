{
 "cells": [
  {
   "cell_type": "code",
   "execution_count": 33,
   "id": "2adafa14",
   "metadata": {},
   "outputs": [
    {
     "name": "stdout",
     "output_type": "stream",
     "text": [
      "No more pages.\n",
      "Scraping complete. 3690 jobs saved to 'kaiser_jobs.csv'.\n"
     ]
    }
   ],
   "source": [
    "# Import libraries\n",
    "from splinter import Browser\n",
    "from bs4 import BeautifulSoup\n",
    "import pandas as pd\n",
    "import time\n",
    "\n",
    "# Set up Splinter browser\n",
    "# executable_path = {'executable_path': 'chromedriver'}  # Adjust if needed\n",
    "# browser = Browser('chrome', **executable_path, headless=False)\n",
    "\n",
    "# Open a Chrome window using Splinter\n",
    "browser = Browser('chrome')\n",
    "\n",
    "# Visit the Kaiser jobs page\n",
    "url = 'https://www.kaiserpermanentejobs.org/search-jobs?glat=37.3382&glon=-121.886'\n",
    "browser.visit(url)\n",
    "\n",
    "# Allow page to load\n",
    "time.sleep(5)\n",
    "\n",
    "# Create a list to hold all job data\n",
    "jobs_list = []\n",
    "\n",
    "# Loop through all pages\n",
    "while True:\n",
    "    \n",
    "    # Parse the HTML\n",
    "    html = browser.html\n",
    "    soup = BeautifulSoup(html, 'html.parser')\n",
    "\n",
    "    # Find all job postings\n",
    "    jobs = soup.find_all('section', id ='search-results-list')  # Each job is inside a <li> with this class\n",
    "    listings = job.find_all('li')\n",
    "\n",
    "    for listing in listings:\n",
    "        job_title = listing.find('h2')\n",
    "        job_loc = listing.find('span', class_='job-location')\n",
    "        # Save the job info\n",
    "        jobs_list.append({\n",
    "            'Title': job_title.text,\n",
    "            'Location': job_loc.text\n",
    "        })\n",
    "\n",
    "    try:\n",
    "        next_button = browser.find_by_css('a.next')\n",
    "        if next_button and next_button.first.visible:\n",
    "            # Scroll into view (optional)\n",
    "            browser.execute_script(\"arguments[0].scrollIntoView(true);\", next_button.first._element)\n",
    "            time.sleep(1)\n",
    "\n",
    "            # Instead of .click(), force click via JavaScript\n",
    "            browser.execute_script(\"arguments[0].click();\", next_button.first._element)\n",
    "            time.sleep(5)  # Allow page to load\n",
    "        else:\n",
    "            print(\"No more pages.\")\n",
    "            break\n",
    "    except Exception as e:\n",
    "        print(f\"Error navigating pages: {e}\")\n",
    "        break\n",
    "\n",
    "# Close the browser\n",
    "browser.quit()\n",
    "\n",
    "# Create a DataFrame\n",
    "jobs_df = pd.DataFrame(jobs_list)\n",
    "\n",
    "# Output to CSV\n",
    "jobs_df.to_csv('kaiser_jobs.csv', index=False)\n",
    "\n",
    "print(f\"Scraping complete. {len(jobs_list)} jobs saved to 'kaiser_jobs.csv'.\")"
   ]
  },
  {
   "cell_type": "code",
   "execution_count": null,
   "id": "aade67fa",
   "metadata": {},
   "outputs": [],
   "source": []
  },
  {
   "cell_type": "code",
   "execution_count": null,
   "id": "59f7199e",
   "metadata": {},
   "outputs": [],
   "source": []
  },
  {
   "cell_type": "code",
   "execution_count": null,
   "id": "ba849713",
   "metadata": {},
   "outputs": [],
   "source": []
  }
 ],
 "metadata": {
  "kernelspec": {
   "display_name": "Python 3 (ipykernel)",
   "language": "python",
   "name": "python3"
  },
  "language_info": {
   "codemirror_mode": {
    "name": "ipython",
    "version": 3
   },
   "file_extension": ".py",
   "mimetype": "text/x-python",
   "name": "python",
   "nbconvert_exporter": "python",
   "pygments_lexer": "ipython3",
   "version": "3.10.15"
  }
 },
 "nbformat": 4,
 "nbformat_minor": 5
}
